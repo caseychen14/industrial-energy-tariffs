{
 "cells": [
  {
   "cell_type": "code",
   "execution_count": 7,
   "metadata": {},
   "outputs": [],
   "source": [
    "import pandas as pd"
   ]
  },
  {
   "cell_type": "code",
   "execution_count": 8,
   "metadata": {},
   "outputs": [],
   "source": [
    "mixed_type_columns = [3, 5, 28, 362, 392, 397, 402, 407, 412, 417, 437, 442, 447, 452, 457, 472, 477, 482, 492, 497, 502, 507, 517, 522, 527, 532, 542, 547, 552, 557, 562, 567, 572, 577, 582, 587, 592, 597, 602, 607, 612, 617, 622, 627, 632, 637, 642, 647, 652, 655, 668]\n",
    "\n",
    "dtype_dict = {col: str for col in mixed_type_columns}\n",
    "\n",
    "openei = pd.read_csv('/Users/caseychens/Documents/stanford/summer24/we3/data/OpenEI data/91761.csv', dtype=dtype_dict)\n",
    "\n",
    "data_dict = {\n",
    "    'utility': [],\n",
    "    'type': [],\n",
    "    'assessed': [],\n",
    "    'period': [],\n",
    "    'basic_charge_limit (imperial)': [],\n",
    "    'basic_charge_limit (metric)': [],\n",
    "    'month_start': [],\n",
    "    'month_end': [],\n",
    "    'hour_start': [],\n",
    "    'hour_end': [],\n",
    "    'weekday_start': [],\n",
    "    'weekday_end': [],\n",
    "    'charge (imperial)': [],\n",
    "    'charge (metric)': [],\n",
    "    'units': [],\n",
    "    'Notes': []\n",
    "}\n"
   ]
  },
  {
   "cell_type": "code",
   "execution_count": 24,
   "metadata": {},
   "outputs": [
    {
     "name": "stdout",
     "output_type": "stream",
     "text": [
      "http://www.prairielandelectric.com/Rates_PDF/MKEC%20Rates.pdf\thttp://prairielandelectric.com/\n",
      "http://www.talquinelectric.com/rates_elec.aspx\tnan\n"
     ]
    }
   ],
   "source": [
    "index = 0\n",
    "\n",
    "#for i in range(len(openei_dummy)):\n",
    "for i in range(2):\n",
    "    # customer flat rate (need to add code checking if rate is zero)\n",
    "    data_dict['utility'].append('electricity')\n",
    "    data_dict['type'].append('customer')\n",
    "    data_dict['assessed'].append('')\n",
    "    data_dict['period'].append('')\n",
    "    data_dict['basic_charge_limit (imperial)'].append('')\n",
    "    data_dict['basic_charge_limit (metric)'].append('')\n",
    "    data_dict['month_start'].append('')\n",
    "    data_dict['month_end'].append('')\n",
    "    data_dict['hour_start'].append('')\n",
    "    data_dict['hour_end'].append('')\n",
    "    data_dict['weekday_start'].append('')\n",
    "    data_dict['weekday_end'].append('')\n",
    "    data_dict['charge (imperial)'].append(openei['fixedchargefirstmeter'][i])\n",
    "    data_dict['charge (metric)'].append(openei['fixedchargefirstmeter'][i])\n",
    "    data_dict['Notes'].append(str(openei['source'][i]) + ('\\t' + str(openei['sourceparent'][i]) if str(openei['sourceparent'][i]) != '' else ''))\n",
    "    print(str(openei['source'][i]) + ('\\t' + str(openei['sourceparent'][i]) if str(openei['sourceparent'][i]) != '' else ''))\n"
   ]
  }
 ],
 "metadata": {
  "kernelspec": {
   "display_name": "base",
   "language": "python",
   "name": "python3"
  },
  "language_info": {
   "codemirror_mode": {
    "name": "ipython",
    "version": 3
   },
   "file_extension": ".py",
   "mimetype": "text/x-python",
   "name": "python",
   "nbconvert_exporter": "python",
   "pygments_lexer": "ipython3",
   "version": "3.12.2"
  }
 },
 "nbformat": 4,
 "nbformat_minor": 2
}
