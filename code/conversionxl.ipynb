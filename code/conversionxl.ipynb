{
 "cells": [
  {
   "cell_type": "code",
   "execution_count": null,
   "metadata": {},
   "outputs": [],
   "source": [
    "import pandas as pd\n",
    "import numpy as np\n",
    "import ast\n",
    "import geo2ei"
   ]
  },
  {
   "cell_type": "code",
   "execution_count": null,
   "metadata": {},
   "outputs": [],
   "source": [
    "MONTHS = {'jan': 1, 'feb': 2, 'mar': 3, 'apr': 4, 'may': 5, 'jun': 6, 'jul': 7, 'aug': 8, 'sep': 9, 'oct': 10, 'nov': 11, 'dec': 12}\n",
    "\n",
    "mixed_type_columns = [3, 5, 11, 28, 362, 392, 397, 402, 407, 412, 417, 437, 442, 447, 452, 457, 472, 477, 482, 492, 497, 502, 507, 517, 522, 527, 532, 542, 547, 552, 557, 562, 567, 572, 577, 582, 587, 592, 597, 602, 607, 612, 617, 622, 627, 632, 637, 642, 647, 652, 655, 668]\n",
    "\n",
    "dtype_dict = {col: str for col in mixed_type_columns}\n",
    "\n",
    "openei = pd.read_csv('../data/usurdb.csv', dtype=dtype_dict) #can add null values\n",
    "\n",
    "openei['sourceparent'] = openei['sourceparent'].fillna(value='')\n",
    "\n",
    "#turn into python script maybe turn into a class\n"
   ]
  },
  {
   "cell_type": "code",
   "execution_count": null,
   "metadata": {},
   "outputs": [],
   "source": [
    "metadata = {\n",
    "    'eiaid': [],\n",
    "    'latitude': [],\n",
    "    'longitude': [],\n",
    "    'name': [],\n",
    "    'utility': [],\n",
    "    'source': []\n",
    "}"
   ]
  },
  {
   "cell_type": "code",
   "execution_count": null,
   "metadata": {},
   "outputs": [],
   "source": [
    "# create a dictionary of the tariff and then append to a list\n",
    "# df.concat, make the empty values NaN"
   ]
  },
  {
   "cell_type": "code",
   "execution_count": null,
   "metadata": {},
   "outputs": [],
   "source": [
    "tariff_list = []\n",
    "# call pd.DataFrame on the entire list"
   ]
  },
  {
   "cell_type": "code",
   "execution_count": null,
   "metadata": {},
   "outputs": [],
   "source": [
    "def make_dict():\n",
    "    data_dict = {\n",
    "        'utility': '',\n",
    "        'type': '',\n",
    "        'assessed': '',\n",
    "        'period': '',\n",
    "        'basic_charge_limit (imperial)': '',\n",
    "        'basic_charge_limit (metric)': '',\n",
    "        'month_start': '',\n",
    "        'month_end': '',\n",
    "        'hour_start': '',\n",
    "        'hour_end': '',\n",
    "        'weekday_start': '',\n",
    "        'weekday_end': '',\n",
    "        'charge (imperial)': '',\n",
    "        'charge (metric)': '',\n",
    "        'units': '',\n",
    "        'Notes': ''\n",
    "    }\n",
    "    return data_dict"
   ]
  },
  {
   "cell_type": "code",
   "execution_count": null,
   "metadata": {},
   "outputs": [],
   "source": [
    "def find_consecutive_ranges(lst):\n",
    "    if not lst:\n",
    "        return []\n",
    "\n",
    "    ranges = []\n",
    "    start = 0\n",
    "\n",
    "    for i in range(1, len(lst)):\n",
    "        if lst[i] != lst[start]:\n",
    "            ranges.append((start, i - 1))\n",
    "            start = i\n",
    "\n",
    "    ranges.append((start, len(lst) - 1))\n",
    "\n",
    "    return ranges"
   ]
  },
  {
   "cell_type": "code",
   "execution_count": null,
   "metadata": {},
   "outputs": [],
   "source": [
    "def process_customer(i, lst):\n",
    "    data_dict = make_dict()\n",
    "    data_dict['utility'] = ('electric')\n",
    "    data_dict['type'] = ('customer')\n",
    "    data_dict['assessed'] = ('')\n",
    "    data_dict['period'] = ('')\n",
    "    data_dict['basic_charge_limit (imperial)'] = ('')\n",
    "    data_dict['basic_charge_limit (metric)'] = ('')\n",
    "    data_dict['month_start'] = ('')\n",
    "    data_dict['month_end'] = ('')\n",
    "    data_dict['hour_start'] = ('')\n",
    "    data_dict['hour_end'] = ('')\n",
    "    data_dict['weekday_start'] = ('')\n",
    "    data_dict['weekday_end'] = ('')\n",
    "    data_dict['charge (imperial)'] = (openei['fixedchargefirstmeter'][i])\n",
    "    data_dict['charge (metric)'] = (openei['fixedchargefirstmeter'][i])\n",
    "    data_dict['units'] = ('$/month')\n",
    "    data_dict['Notes'] = (str(openei['source'][i]) + ('\\t' + str(openei['sourceparent'][i]) if openei['sourceparent'][i] != '' else ''))\n",
    "    lst.append(data_dict)"
   ]
  },
  {
   "cell_type": "code",
   "execution_count": null,
   "metadata": {},
   "outputs": [],
   "source": [
    "# make sure to name in period the same if the weekday and weekend charges are the same charge\n",
    "# add a unit converter to standardize to kW or kWh (pint package for unit handling)\n",
    "# demand window should be 15 mins (check the demandwindow column) \n",
    "# if not 15 mins, put in seperate list\n",
    "# use period to determine when evaluated\n",
    "def process_demand(i, lst):\n",
    "    # processing the array for time intervals\n",
    "\n",
    "    MONTH_ARRAY = ['flatDemandMonth_jan', 'flatDemandMonth_feb', 'flatDemandMonth_mar', 'flatDemandMonth_apr', 'flatDemandMonth_may', 'flatDemandMonth_jun', 'flatDemandMonth_jul', 'flatDemandMonth_aug', 'flatDemandMonth_sep', 'flatDemandMonth_oct', 'flatDemandMonth_nov', 'flatDemandMonth_dec']\n",
    "    sched = {}\n",
    "    for j in range(len(MONTH_ARRAY)):\n",
    "        sched[j] = (openei[MONTH_ARRAY[j]][i])\n",
    "\n",
    "    new_list = list(sched.values())\n",
    "    ranges = find_consecutive_ranges(new_list)\n",
    "        \n",
    "    if len(ranges) == 0:\n",
    "        ranges = [(1, 12)]\n",
    "\n",
    "    time_index = 0\n",
    "    tier_index = 0\n",
    "    charge_limit = 0\n",
    "\n",
    "    # set a flag var to false if something triggers\n",
    "    while time_index < len(ranges):\n",
    "        try:\n",
    "            # tier_str first to catch ValueErrors from null values in the dataframe\n",
    "            tier_str = 'flatdemandstructure/period'+ str(int(sched[ranges[time_index][0]])) + '/tier'+ str(tier_index)\n",
    "            rate = openei[tier_str + 'rate'][i]\n",
    "        except (ValueError, KeyError):\n",
    "            return\n",
    "        \n",
    "        data_dict = make_dict()\n",
    "        data_dict['month_start'] = (str(ranges[time_index][0]))\n",
    "        data_dict['month_end'] = (str(ranges[time_index][1]))\n",
    "        data_dict['utility'] = ('electric')\n",
    "        data_dict['type'] = ('demand')\n",
    "        data_dict['assessed'] = ('') # figure out if the demand charge is done daily\n",
    "        data_dict['period'] = ('flat' + str(i)) # make sure that if the charge is the same, give the same name to the tariff\n",
    "        data_dict['basic_charge_limit (imperial)'] = (charge_limit)\n",
    "        data_dict['basic_charge_limit (metric)'] = (charge_limit)\n",
    "        data_dict['hour_start'] = ('')\n",
    "        data_dict['hour_end'] = ('')\n",
    "        # Not the case for all structures\n",
    "        data_dict['weekday_start'] = ('0')\n",
    "        data_dict['weekday_end'] = ('6')\n",
    "        if not np.isnan(openei[tier_str + 'adj'][i]):\n",
    "            rate += openei[tier_str + 'adj'][i]\n",
    "            data_dict['Notes'] = (f'adjustment factor of {openei[tier_str + \"adj\"][i]}')\n",
    "        else:\n",
    "            data_dict['Notes'] = ('')\n",
    "        data_dict['charge (imperial)'] = (rate)\n",
    "        data_dict['charge (metric)'] = (rate)\n",
    "        data_dict['units'] = ('$/' + str(openei['flatdemandunit'][i])) # convert automatically\n",
    "        lst.append(data_dict)\n",
    "        \n",
    "\n",
    "\n",
    "        # contain the try except fwk to setting this string\n",
    "        max_str = 'flatdemandstructure/period' + str(int(sched[ranges[time_index][0]])) + '/tier'+ str(tier_index) + 'max'\n",
    "        if not np.isnan(openei[max_str][i]):\n",
    "            charge_limit = openei[max_str][i]\n",
    "            tier_index += 1\n",
    "        else:\n",
    "            time_index += 1\n",
    "            tier_index = 0\n",
    "\n",
    "        "
   ]
  },
  {
   "cell_type": "code",
   "execution_count": null,
   "metadata": {},
   "outputs": [],
   "source": [
    "'''\n",
    "unpack_array() takes the nested array and processed array in order to generate \n",
    "tarriffs which are sensitive to day-by-day variance as well as month variance.\n",
    "\n",
    "lst is a list of tuples, each tuple representing the start and end month of a\n",
    "continuous term for which a tarriff is applicable\n",
    "sched is the unprocessed two-layer nested array with the indexes of tariffs\n",
    "string is the string that represents the name of the tarriff structure in dataframe\n",
    "units is the unit for which the tariff measures i.e. kWh, kW, etc.\n",
    "'''#TODO: remove tariff if the rate is zero\n",
    "# be very detailed in comment when turning into python script\n",
    "# check fractional hours, look into whether there is a way to handle/understand how it works\n",
    "def unpack_array(lst, sched, string, i, units, type, week_start, week_end, tariff):\n",
    "    time_index = 0 ##change to day index\n",
    "    hour_index = 0\n",
    "    tier_index = 0\n",
    "    charge_limit = 0\n",
    "\n",
    "    hour_list = sched[lst[time_index][0]] # month_lst is the current month looked at\n",
    "    hour_ranges = find_consecutive_ranges(hour_list) # processed month_lst\n",
    "    hour = hour_ranges[hour_index][0] #\n",
    "\n",
    "    # print(f'MONTH_LIST: {hour_list}')\n",
    "    # print(f'MONTH_FIRST: {hour_list[hour_index]} + here is the type: {type(hour_list[hour_index])}')\n",
    "\n",
    "    while time_index < len(lst) and hour_index < len(hour_ranges):\n",
    "        data_dict = make_dict()\n",
    "        try:\n",
    "            # tier_str first to catch ValueErrors from null values in the dataframe\n",
    "            #printing the types of every element of the concatenated tier_str\n",
    "            tier_str = string + '/period'+ str(hour_list[hour]) + '/tier'+ str(tier_index)\n",
    "            rate = openei[tier_str + 'rate'][i]\n",
    "        except (IndexError, ValueError, KeyError):\n",
    "            break\n",
    "        data_dict['month_start'] = (str(lst[time_index][0]))\n",
    "        data_dict['month_end'] = (str(lst[time_index][1]))\n",
    "        data_dict['utility'] = ('electric') #TODO: add to arguments in function prototype\n",
    "        data_dict['type'] = (type)\n",
    "        data_dict['assessed'] = ('')\n",
    "        data_dict['period'] = ('')\n",
    "        data_dict['basic_charge_limit (imperial)'] = (charge_limit)\n",
    "        data_dict['basic_charge_limit (metric)'] = (charge_limit)\n",
    "        data_dict['hour_start'] = (hour_ranges[hour_index][0])\n",
    "        data_dict['hour_end'] = (hour_ranges[hour_index][1])\n",
    "        # Not the case for all structures\n",
    "        data_dict['weekday_start'] = (week_start)\n",
    "        data_dict['weekday_end'] = (week_end)\n",
    "        if not np.isnan(openei[tier_str + 'adj'][i]):\n",
    "            rate += openei[tier_str + 'adj'][i]\n",
    "        data_dict['charge (imperial)'] = (rate)\n",
    "        data_dict['charge (metric)'] = (rate)\n",
    "        data_dict['units'] = (units)\n",
    "        data_dict['Notes'] = ('')\n",
    "        tariff.append(data_dict)\n",
    "\n",
    "        max_str = string + '/period' + str(hour_list[hour]) + '/tier'+ str(tier_index) + 'max'\n",
    "        if not np.isnan(openei[max_str][i]):\n",
    "            charge_limit = openei[max_str][i]\n",
    "            tier_index += 1\n",
    "        elif hour_index < len(hour_ranges) - 1:\n",
    "            hour_index += 1\n",
    "            charge_limit = 0\n",
    "            \n",
    "        else:\n",
    "            time_index += 1\n",
    "            hour_index = 0\n",
    "        try:\n",
    "            hour_list = sched[lst[time_index][0]] # month_lst is the current month looked at\n",
    "            hour_ranges = find_consecutive_ranges(hour_list) # processed month_lst\n",
    "            hour = hour_ranges[hour_index][0]\n",
    "        except IndexError:\n",
    "            break"
   ]
  },
  {
   "cell_type": "code",
   "execution_count": null,
   "metadata": {},
   "outputs": [],
   "source": [
    "def process_TOU(i, lst):\n",
    "    # check if TOU data available\n",
    "\n",
    "    \n",
    "    if pd.isna(openei['demandweekdayschedule'][i]) and pd.isna(openei['demandweekendschedule'][i]):\n",
    "        return\n",
    "\n",
    "    weekday_sched = ast.literal_eval(openei['demandweekdayschedule'][i])\n",
    "    weekend_sched = ast.literal_eval(openei['demandweekendschedule'][i])\n",
    "\n",
    "    weekday_ranges = find_consecutive_ranges(weekday_sched)\n",
    "    weekend_ranges = find_consecutive_ranges(weekend_sched)\n",
    "    #quick n dirty fix here for units\n",
    "    unpack_array(weekday_ranges, weekday_sched, 'demandratestructure', i, '$/kWh', 'demand', 0, 4, lst)\n",
    "    unpack_array(weekend_ranges, weekend_sched, 'demandratestructure', i, '$/kWh', 'demand', 5, 6, lst)"
   ]
  },
  {
   "cell_type": "code",
   "execution_count": null,
   "metadata": {},
   "outputs": [],
   "source": [
    "def process_energyStruc(i, lst):\n",
    "    # check if energy data available\n",
    "    if pd.isna(openei['energyweekdayschedule'][i]) and pd.isna(openei['energyweekendschedule'][i]):\n",
    "        return\n",
    "\n",
    "    weekday_sched = ast.literal_eval(openei['energyweekdayschedule'][i])\n",
    "    weekend_sched = ast.literal_eval(openei['energyweekendschedule'][i])\n",
    "\n",
    "    weekday_ranges = find_consecutive_ranges(weekday_sched)\n",
    "    weekend_ranges = find_consecutive_ranges(weekend_sched)\n",
    "\n",
    "    # print(f\"wd sched: {weekday_sched}, ranges length: {len(weekday_sched)}\")\n",
    "    # print(f\"we sched: {weekend_sched}, ranges length: {len(weekend_sched)}\")\n",
    "\n",
    "    # print(f\"wd ranges: {weekday_ranges}, ranges length: {len(weekday_ranges)}\")\n",
    "    # print(f\"we ranges: {weekend_ranges}, ranges length: {len(weekend_ranges)}\")\n",
    "    unpack_array(weekday_ranges, weekday_sched, 'energyratestructure', i, '$/kWh', 'electric', 0, 4, lst)\n",
    "    unpack_array(weekend_ranges, weekend_sched, 'energyratestructure', i, '$/kWh', 'electric', 5, 6, lst)\n",
    "    \n"
   ]
  },
  {
   "cell_type": "code",
   "execution_count": null,
   "metadata": {},
   "outputs": [],
   "source": [
    "# def add_metadata(i):\n",
    "#     metadata['eiaid'].append(openei['eiaid'][i])\n",
    "#     metadata['latitude'].append(openei['latitude'][i])\n",
    "#     metadata['longitude'].append(openei['longitude'][i])\n",
    "#     metadata['name'].append(openei['name'][i])\n",
    "#     metadata['utility'].append('electricity')\n",
    "#     metadata['source'].append(openei['source'][i] + ('\\t' + openei['sourceparent'][i] if openei['sourceparent'][i] != '' else ''))\n",
    "    "
   ]
  },
  {
   "cell_type": "code",
   "execution_count": null,
   "metadata": {},
   "outputs": [],
   "source": [
    "def sector_filter(i, filter):\n",
    "    if openei['sector'][i] == filter:\n",
    "        return True\n",
    "    return False"
   ]
  },
  {
   "cell_type": "code",
   "execution_count": null,
   "metadata": {},
   "outputs": [],
   "source": [
    "\n",
    "def add_index(i):\n",
    "    tariff = []\n",
    "    process_customer(i, tariff)\n",
    "    process_demand(i, tariff)\n",
    "    process_TOU(i, tariff)\n",
    "    process_energyStruc(i, tariff)\n",
    "    tariff_list.append(tariff)"
   ]
  },
  {
   "cell_type": "code",
   "execution_count": null,
   "metadata": {},
   "outputs": [],
   "source": [
    "top_utils = pd.read_excel('../data/table_8.xlsx')\n",
    "zipcodes = pd.read_csv('../data/merged_zipcodes.csv')\n",
    "bad_list = ['EDF Energy Services, LLC', 'Tenaska Power Services', 'Withheld', 'Grand River Dam Authority', 'MP2 Energy LLC', 'Vinton Public Power Authority', 'ENGIE Resources LLC', 'AGC Division of APGI Inc', 'Adjustment 2022', 'Adjustment 2022', 'Adjustment 2022', 'WAPA-- Western Area Power Administration', 'Constellation NewEnergy, Inc', 'Adjustment 2022', 'Upper Michigan Energy Resources Corp.', 'Adjustment 2022', 'Adjustment 2022', 'Basin Electric Power Coop', 'Cheyenne Light Fuel & Power', 'Adjustment 2022', 'Adjustment 2022', 'Adjustment 2022', 'Adjustment 2022', 'Adjustment 2022', 'Total Gas & Power North America Inc', 'MidAmerican Energy Services, LLC', 'Adjustment 2022', 'Southern Pioneer Electric Company', 'Adjustment 2022', 'Adjustment 2022', 'Bonneville Power Administration', 'Adjustment 2022', 'Adjustment 2022', 'Adjustment 2022', 'NorthWestern Energy - (SD)', 'Adjustment 2022', 'Adjustment 2022', 'Adjustment 2022', 'Electrical Dist No8 Maricopa', 'Calpine Energy Solutions, LLC', 'BP Energy Company', 'Adjustment 2022', 'Adjustment 2022', 'Adjustment 2022', 'Adjustment 2022', 'Adjustment 2022']\n",
    "indexes = []\n",
    "csv_counter = 0\n",
    "\n",
    "for name in top_utils['Name']:\n",
    "    matching_rows = zipcodes[zipcodes['utility_name'] == name]\n",
    "    if matching_rows.empty:\n",
    "        continue\n",
    "    eiaid = matching_rows.iloc[0]['eiaid']\n",
    "    index = openei[openei['eiaid'] == eiaid].index\n",
    "    #add the index to indexes\n",
    "    if not index.empty:\n",
    "        for i in index:\n",
    "            if sector_filter(i, 'Industrial'):\n",
    "                add_index(i)\n",
    "                csv_counter += 1"
   ]
  },
  {
   "cell_type": "code",
   "execution_count": null,
   "metadata": {},
   "outputs": [],
   "source": [
    "tariff_list = []\n",
    "add_index(41285)"
   ]
  },
  {
   "cell_type": "code",
   "execution_count": null,
   "metadata": {},
   "outputs": [],
   "source": [
    "pd.DataFrame(tariff_list[0])"
   ]
  },
  {
   "cell_type": "code",
   "execution_count": null,
   "metadata": {},
   "outputs": [],
   "source": [
    "#list of all state abbreviations\n",
    "states = ['AL', 'AK', 'AZ', 'AR', 'CA', 'CO', 'CT', 'DE', 'FL', 'GA', 'HI', 'ID', 'IL', 'IN', 'IA', 'KS', 'KY', 'LA', 'ME', 'MD', 'MA', 'MI', 'MN', 'MS', 'MO', 'MT', 'NE', 'NV', 'NH', 'NJ', 'NM', 'NY', 'NC', 'ND', 'OH', 'OK', 'OR', 'PA', 'RI', 'SC', 'SD', 'TN', 'TX', 'UT', 'VT', 'VA', 'WA', 'WV', 'WI', 'WY']\n",
    "missing = []\n",
    "i = 0\n",
    "for i in range(len(states)):\n",
    "    matching = top_utils[top_utils['State'] == states[i]]\n",
    "    if matching.empty:\n",
    "        missing.append(states[i])\n",
    "    else:\n",
    "        i +=1\n",
    "print(missing)"
   ]
  },
  {
   "cell_type": "code",
   "execution_count": null,
   "metadata": {},
   "outputs": [],
   "source": [
    "# df = pd.DataFrame(data_dict)\n",
    "# df.to_csv('../data/industrial-energy-tariffs.csv', index=False)"
   ]
  },
  {
   "cell_type": "code",
   "execution_count": null,
   "metadata": {},
   "outputs": [],
   "source": [
    "index = 0\n",
    "print(len(tariff_list))\n",
    "with pd.ExcelWriter('output.xlsx', engine='openpyxl') as writer:\n",
    "    for lst in tariff_list:\n",
    "        pd.DataFrame(lst).to_excel(writer, sheet_name='tariff'+str(index), index=False)\n",
    "        index += 1\n",
    "        print(index)\n",
    "    "
   ]
  },
  {
   "cell_type": "code",
   "execution_count": null,
   "metadata": {},
   "outputs": [],
   "source": [
    "#remove api key from code and then store in api key in txt (or save as a github action and save as a secret)\n",
    "url = \"https://api.openei.org/utility_rates?version=3&format=csv&limit=3&eia=195&api_key=GU3aRPzDoNMmTmXcaVI8lUiApKSzRfBguuhFnhOa&detail=full\"\n",
    "\n",
    "geo2ei.open_api(url)\n",
    "\n",
    "new_df = pd.read_csv(\"../data/openei/utility_rates.csv\")\n"
   ]
  },
  {
   "cell_type": "code",
   "execution_count": null,
   "metadata": {},
   "outputs": [],
   "source": [
    "import os\n",
    "\n",
    "my_secret = os.getenv('API_KEY')\n",
    "print({my_secret})"
   ]
  },
  {
   "cell_type": "code",
   "execution_count": null,
   "metadata": {},
   "outputs": [],
   "source": [
    "def merge_zips():\n",
    "    iou = pd.read_csv(\"../data/iou_zipcodes_2020.csv\")\n",
    "    non_iou = pd.read_csv(\"../data/non_iou_zipcodes_2020.csv\")\n",
    "    merged = pd.concat([iou, non_iou], ignore_index=True)\n",
    "    merged.to_csv(\"../data/merged_zipcodes.csv\")\n"
   ]
  }
 ],
 "metadata": {
  "kernelspec": {
   "display_name": "Python 3 (ipykernel)",
   "language": "python",
   "name": "python3"
  },
  "language_info": {
   "codemirror_mode": {
    "name": "ipython",
    "version": 3
   },
   "file_extension": ".py",
   "mimetype": "text/x-python",
   "name": "python",
   "nbconvert_exporter": "python",
   "pygments_lexer": "ipython3",
   "version": "3.12.2"
  }
 },
 "nbformat": 4,
 "nbformat_minor": 4
}
