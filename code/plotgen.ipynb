{
 "cells": [
  {
   "cell_type": "code",
   "execution_count": null,
   "metadata": {},
   "outputs": [],
   "source": [
    "import matplotlib as plt\n",
    "import pandas as pd\n",
    "import numpy\n",
    "\n",
    "df = pd.read_csv('../data/industrial-energy-tariffs.csv')\n",
    "\n",
    "print(df.head())\n",
    "print(df.shape)\n",
    "\n",
    "\n"
   ]
  },
  {
   "cell_type": "code",
   "execution_count": null,
   "metadata": {},
   "outputs": [],
   "source": [
    "# subset it to 1000 rows\n",
    "df = df.sample(n=100).reset_index(drop=True)\n",
    "# find nan values\n",
    "# notes_idx = ~df[\"Notes\"].isnull().values\n",
    "# df_filter = df[notes_idx]"
   ]
  },
  {
   "cell_type": "code",
   "execution_count": null,
   "metadata": {},
   "outputs": [],
   "source": [
    "df\n"
   ]
  },
  {
   "cell_type": "code",
   "execution_count": null,
   "metadata": {},
   "outputs": [],
   "source": [
    "\n",
    "elec_x = []\n",
    "elec_y = []\n",
    "demand_x = []\n",
    "demand_y = []\n",
    "\n",
    "# look at each set of tariffs in the dataframa by looking for the marker of the start of each batch: a value in the 'Notes' column, and within each batch sorting by electric and demand 'type' finding the max and min for each\n",
    "i = 0\n",
    "while i < len(df):\n",
    "    if pd.notnull(df.loc[i, 'Notes']):\n",
    "        elec_max = 0\n",
    "        elec_min = numpy.inf\n",
    "        demand_max = 0\n",
    "        demand_min = numpy.inf\n",
    "        while pd.isnull(df.loc[i, 'Notes']):\n",
    "            if df.loc[i, 'type'] == 'electric':\n",
    "                if df.loc[i, 'charge (imperial)'] > elec_max:\n",
    "                    elec_max = df.loc[i, 'charge (imperial)']\n",
    "                if df.loc[i, 'charge (imperial)'] < elec_min:\n",
    "                    elec_min = df.loc[i, 'charge (imperial)']\n",
    "            if df.loc[i, 'type'] == 'demand':\n",
    "                if df.loc[i, 'charge (imperial)'] > demand_max:\n",
    "                    demand_max = df.loc[i, 'charge (imperial)']\n",
    "                if df.loc[i, 'charge (imperial)'] < demand_min:\n",
    "                    demand_min = df.loc[i, 'charge (imperial)']\n",
    "            \n",
    "        elec_x.append(elec_min)\n",
    "        elec_y.append(elec_max / elec_min)\n",
    "        demand_x.append(demand_min)\n",
    "        demand_y.append(demand_max / demand_min)\n",
    "    i += 1\n",
    "\n",
    "plt.scatter(elec_x, elec_y)\n",
    "plt.scatter(demand_x, demand_y)"
   ]
  }
 ],
 "metadata": {
  "kernelspec": {
   "display_name": "base",
   "language": "python",
   "name": "python3"
  },
  "language_info": {
   "codemirror_mode": {
    "name": "ipython",
    "version": 3
   },
   "file_extension": ".py",
   "mimetype": "text/x-python",
   "name": "python",
   "nbconvert_exporter": "python",
   "pygments_lexer": "ipython3",
   "version": "3.12.2"
  }
 },
 "nbformat": 4,
 "nbformat_minor": 2
}
